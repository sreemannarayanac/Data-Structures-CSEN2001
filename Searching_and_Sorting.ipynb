{
  "nbformat": 4,
  "nbformat_minor": 0,
  "metadata": {
    "colab": {
      "provenance": [],
      "authorship_tag": "ABX9TyMaA2HSEDxU/tWG3hNpApUT",
      "include_colab_link": true
    },
    "kernelspec": {
      "name": "python3",
      "display_name": "Python 3"
    },
    "language_info": {
      "name": "python"
    }
  },
  "cells": [
    {
      "cell_type": "markdown",
      "metadata": {
        "id": "view-in-github",
        "colab_type": "text"
      },
      "source": [
        "<a href=\"https://colab.research.google.com/github/sreemannarayanac/Data-Structures-CSEN2001/blob/main/Searching_and_Sorting.ipynb\" target=\"_parent\"><img src=\"https://colab.research.google.com/assets/colab-badge.svg\" alt=\"Open In Colab\"/></a>"
      ]
    },
    {
      "cell_type": "markdown",
      "source": [
        "# Searching\n",
        "Searching methods are used to find the desired information from the set of items\n",
        "stored in a data structure.\n",
        "For searching an element in a linear data structure we use following searching methods:\n",
        "\n",
        "\n",
        "1.   Linear Search (also called Sequential Search)\n",
        "2.   Binary Search\n",
        "\n"
      ],
      "metadata": {
        "id": "PfhvZRi3tpfr"
      }
    },
    {
      "cell_type": "markdown",
      "source": [
        "## Linear search"
      ],
      "metadata": {
        "id": "p_0jqDrjwIqZ"
      }
    },
    {
      "cell_type": "code",
      "execution_count": null,
      "metadata": {
        "id": "CXwA1IeUtkb1",
        "colab": {
          "base_uri": "https://localhost:8080/"
        },
        "outputId": "c6164f30-a5ec-48af-fed1-4f44478f659b"
      },
      "outputs": [
        {
          "output_type": "stream",
          "name": "stdout",
          "text": [
            "Enter numbers (integers) with spaces in between: \n",
            "1 2 3 4 5\n",
            "Enter the number to search: 6\n",
            "Number (6) not found in the list.\n"
          ]
        }
      ],
      "source": [
        "def linearSearch(arr: list, target: int) -> bool:\n",
        "  '''This function takes in two arguments:\n",
        "  arr: list of integers on which the linear search should be performed.\n",
        "  target: integer which should be searched'''\n",
        "  found: bool = False\n",
        "  for i in range(len(arr)):\n",
        "    if i == target:\n",
        "      found: bool = True\n",
        "      break\n",
        "  return found\n",
        "\n",
        "#taking elements of list as input\n",
        "l: str = input(\"Enter numbers (integers) with spaces in between: \\n\").split()\n",
        "l: list = list(map(int, l))\n",
        "\n",
        "#taking target number as input\n",
        "target: int = int(input(\"Enter the number to search: \"))\n",
        "\n",
        "#checking if the target is present in the input list\n",
        "if (linearSearch(l, target)):\n",
        "  print(f\"Number ({target}) is present in the list.\")\n",
        "else:\n",
        "  print(f\"Number ({target}) not found in the list.\")"
      ]
    },
    {
      "cell_type": "markdown",
      "source": [
        "## Binary Search"
      ],
      "metadata": {
        "id": "R9CnqUFFWT6U"
      }
    },
    {
      "cell_type": "code",
      "source": [
        "def binarySearch(arr: list, target: int) -> bool:\n",
        "  '''This function takes in two arguments:\n",
        "  arr: list of integers (in sorted order) on which the linear search should be performed.\n",
        "  target: integer which should be searched'''\n",
        "  found: bool = False\n",
        "  start, end = 0, len(arr)\n",
        "\n",
        "  while(start<end):\n",
        "    mid: int = start + ((end-start)/2)\n",
        "    if target > mid:\n",
        "      start = mid + 1\n",
        "    elif target < mid:\n",
        "      end = mid - 1\n",
        "    else:\n",
        "      start = end + 1\n",
        "  \n",
        "  if target == mid:\n",
        "    return True\n",
        "  else:\n",
        "    return False\n",
        "\n",
        "#taking elements of list as input\n",
        "l: str = input(\"Enter numbers (integers) with spaces in between: \\n\").split()\n",
        "l: list = list(map(int, l))\n",
        "\n",
        "#taking target number as input\n",
        "target: int = int(input(\"Enter the number to search: \"))\n",
        "\n",
        "#checking if the target is present in the input list\n",
        "if (binarySearch(l, target)):\n",
        "  print(f\"Number ({target}) is present in the list.\")\n",
        "else:\n",
        "  print(f\"Number ({target}) not found in the list.\")"
      ],
      "metadata": {
        "colab": {
          "base_uri": "https://localhost:8080/"
        },
        "id": "I1h-v9NvWWa9",
        "outputId": "d43e248a-5898-4667-d363-a9d55c752925"
      },
      "execution_count": null,
      "outputs": [
        {
          "output_type": "stream",
          "name": "stdout",
          "text": [
            "Enter numbers (integers) with spaces in between: \n",
            "1 2 3 4 5 6 7 8\n",
            "Enter the number to search: 4\n",
            "Number (4) is present in the list.\n"
          ]
        }
      ]
    },
    {
      "cell_type": "markdown",
      "source": [
        "# Sorting\n",
        "Sorting methods are used to arrange the elements of a data structure in a requuired format (either descending or ascending)\n",
        "There are 5 basic types of sorting:\n",
        "\n",
        "\n",
        "1.   Bubble Sort\n",
        "2.   Selection Sort\n",
        "3.   Insertion Sort\n",
        "4.   Merge Sort\n",
        "5.   Quick Sort\n",
        "\n"
      ],
      "metadata": {
        "id": "Vq3WBRUwjMgo"
      }
    },
    {
      "cell_type": "markdown",
      "source": [
        "### Bubble Sort"
      ],
      "metadata": {
        "id": "78EqRHpVkkpv"
      }
    },
    {
      "cell_type": "code",
      "source": [
        "def bubbleSort(arr: list) -> None:\n",
        "  '''This functions takes in one argument\n",
        "  arr: a list of numbers to be sorted'''\n",
        "  for i in range(len(arr)):\n",
        "    sorted: bool = True\n",
        "\n",
        "    for j in range(0, len(arr)-i-1):\n",
        "      if arr[j+1]<arr[j]:\n",
        "        arr[j+1], arr[j] = arr[j], arr[j+1] #Swapping list elements\n",
        "        sorted = False\n",
        "\n",
        "    if sorted:\n",
        "      break\n",
        "\n",
        "#taking elements of list as input\n",
        "l: str = input(\"Enter numbers (integers) with spaces in between: \\n\").split()\n",
        "l: list = list(map(int, l))\n",
        "\n",
        "#performing sorting using the above bubbleSort function\n",
        "bubbleSort(l)\n",
        "print(l)"
      ],
      "metadata": {
        "id": "mOvvYEY3kLQK",
        "colab": {
          "base_uri": "https://localhost:8080/"
        },
        "outputId": "2e5dfdf9-77ea-43e6-f2b5-c63c0515345b"
      },
      "execution_count": 1,
      "outputs": [
        {
          "output_type": "stream",
          "name": "stdout",
          "text": [
            "Enter numbers (integers) with spaces in between: \n",
            "1 5 4 2 9\n",
            "[1, 2, 4, 5, 9]\n"
          ]
        }
      ]
    },
    {
      "cell_type": "markdown",
      "source": [
        "### Selection Sort"
      ],
      "metadata": {
        "id": "RJIcFp4ox9FR"
      }
    },
    {
      "cell_type": "code",
      "source": [
        "def selectionSort(array: list) -> None:\n",
        "  '''This functions takes in one argument\n",
        "  arr: a list of numbers to be sorted'''\n",
        "  for i in range(len(array)):\n",
        "    minimum: int = i #let the index of minimum element of the unsorted array is i\n",
        "\n",
        "    for j in range(i+1, len(array)):\n",
        "      if array[j] < array[minimum]:\n",
        "        minimum = j\n",
        "    \n",
        "    #swapping the elements (actual minimum element with the assumed minimum)\n",
        "    array[i], array[minimum] = array[minimum], array[i]\n",
        "\n",
        "#taking elements of list as input\n",
        "l: str = input(\"Enter numbers (integers) with spaces in between: \\n\").split()\n",
        "l: list = list(map(int, l))\n",
        "\n",
        "#performing sorting using the above selectionSort function\n",
        "selectionSort(l)\n",
        "print(l)"
      ],
      "metadata": {
        "colab": {
          "base_uri": "https://localhost:8080/"
        },
        "id": "vw6uLof9x8C_",
        "outputId": "11c7a051-0d57-447b-9523-253c16c00f2d"
      },
      "execution_count": 3,
      "outputs": [
        {
          "output_type": "stream",
          "name": "stdout",
          "text": [
            "Enter numbers (integers) with spaces in between: \n",
            "1 5 2 8 19 12\n",
            "[1, 2, 5, 8, 12, 19]\n"
          ]
        }
      ]
    },
    {
      "cell_type": "markdown",
      "source": [
        "### Insertion Sort"
      ],
      "metadata": {
        "id": "7BxFcc0PzTlE"
      }
    },
    {
      "cell_type": "code",
      "source": [
        "def insertionSort(array = list) -> list:\n",
        "  '''This functions takes in one argument\n",
        "  arr: a list of numbers to be sorted'''\n",
        "  for step in range(1, len(array)):\n",
        "    ele: int = array[step]\n",
        "    j: int = step - 1\n",
        "\n",
        "    while j>=0 and array[j]>ele:\n",
        "      array[j+1] = array[j]\n",
        "      j -= 1 #decerementing j by 1\n",
        "    array[j+1] = ele  #inserting element (ele) at its right position\n",
        "\n",
        "#taking elements of list as input\n",
        "l: str = input(\"Enter numbers (integers) with spaces in between: \\n\").split()\n",
        "l: list = list(map(int, l))\n",
        "\n",
        "#performing sorting using the above insertionSort function\n",
        "insertionSort(l)\n",
        "print(l)"
      ],
      "metadata": {
        "colab": {
          "base_uri": "https://localhost:8080/"
        },
        "id": "rwF7hofKzV-V",
        "outputId": "13fd7fb1-deec-4745-83ca-bd43665c2225"
      },
      "execution_count": 4,
      "outputs": [
        {
          "output_type": "stream",
          "name": "stdout",
          "text": [
            "Enter numbers (integers) with spaces in between: \n",
            "1 5 3 2 4\n",
            "[1, 2, 3, 4, 5]\n"
          ]
        }
      ]
    },
    {
      "cell_type": "markdown",
      "source": [
        "### Merge Sort"
      ],
      "metadata": {
        "id": "mT7STtzz1Dbl"
      }
    },
    {
      "cell_type": "code",
      "source": [
        "def mergeSort(arr: list) -> None:\n",
        "  '''This functions takes in one argument\n",
        "  arr: a list of numbers to be sorted'''\n",
        "  if len(arr)>1:  \n",
        "    mid = len(arr)//2\n",
        "    l = arr[:mid]  #left subarray\n",
        "    r = arr[mid:]  #right subarray\n",
        "\n",
        "    #functions to recurisively call mergeSort\n",
        "    mergeSort(l) #This will recursively sort left subarray\n",
        "    mergeSort(r) #This will recursively sort right subarray\n",
        "    \n",
        "    #variables (integer type) for further operations\n",
        "    i = j = k = 0\n",
        "    \n",
        "    #comparing elements of left and right subarrays\n",
        "    while i < len(l) and j < len(r):\n",
        "      if l[i] <= r[j]: #left subarray element is smaller than right subarray element\n",
        "        arr[k] = l[i]\n",
        "        i += 1\n",
        "      else: #right subarray element is smaller than left subarray element\n",
        "        arr[k] = r[j] \n",
        "        j += 1\n",
        "      k += 1\n",
        "    \n",
        "    #Placing the remaining elements left subarray into main arr\n",
        "    while i < len(l):\n",
        "      arr[k] = l[i]\n",
        "      k+=1\n",
        "      i+=1\n",
        "    \n",
        "    #Placing the remaining elements right subarray into main arr\n",
        "    while j < len(r):\n",
        "      arr[k] = r[j]\n",
        "      j+=1\n",
        "      k+=1\n",
        "\n",
        "\n",
        "#taking elements of list as input\n",
        "l: str = input(\"Enter numbers (integers) with spaces in between: \\n\").split()\n",
        "l: list = list(map(int, l))\n",
        "\n",
        "#performing sorting using the above mergeSort function\n",
        "mergeSort(l)\n",
        "print(l)"
      ],
      "metadata": {
        "colab": {
          "base_uri": "https://localhost:8080/"
        },
        "id": "vwa_zjw81FiR",
        "outputId": "626b5dac-4a34-4abe-8be3-faff964a37f4"
      },
      "execution_count": 5,
      "outputs": [
        {
          "output_type": "stream",
          "name": "stdout",
          "text": [
            "Enter numbers (integers) with spaces in between: \n",
            "1 4 2 8 4 9\n",
            "[1, 2, 4, 4, 8, 9]\n"
          ]
        }
      ]
    },
    {
      "cell_type": "markdown",
      "source": [
        "### Quick Sort"
      ],
      "metadata": {
        "id": "KqsxIKAM3I-F"
      }
    },
    {
      "cell_type": "code",
      "source": [
        "def partition(array: list, low: int, high: int) -> int:\n",
        "  '''Takes in three arguments\n",
        "  array: array of numbers to be sorted\n",
        "  low: starting index of the array to be sorted\n",
        "  high: last index of the array to be sorted'''\n",
        "  pivot = array[high]\n",
        "\n",
        "  i: int = low - 1\n",
        "\n",
        "  for j in range(low, high):\n",
        "    if array[j] <= pivot:\n",
        "      i += 1\n",
        "      array[i], array[j] = array[j], array[i]\n",
        "    \n",
        "  array[i + 1], array[high] = array[high], array[i + 1]\n",
        "\n",
        "  return i + 1\n",
        "\n",
        "def quickSort(array: list, low: int, high: int) -> None:\n",
        "  '''Takes in three arguments\n",
        "  array: array of numbers to be sorted\n",
        "  low: starting index of the array to be sorted\n",
        "  high: last index of the array to be sorted'''\n",
        "  if low < high:\n",
        "    pi: int = partition(array, low, high)\n",
        "\n",
        "    #recursively calling quickSort function\n",
        "    quickSort(array, low, pi-1)\n",
        "    quickSort(array, pi+1, high)\n",
        "\n",
        "#taking elements of list as input\n",
        "l: str = input(\"Enter numbers (integers) with spaces in between: \\n\").split()\n",
        "l: list = list(map(int, l))\n",
        "\n",
        "#performing sorting using the above quickSort function\n",
        "quickSort(l, 0, len(l)-1)\n",
        "print(l)"
      ],
      "metadata": {
        "colab": {
          "base_uri": "https://localhost:8080/"
        },
        "id": "jIfR20C_3LPR",
        "outputId": "83b3dca7-6ee6-4ea8-ce39-2416a5097756"
      },
      "execution_count": 7,
      "outputs": [
        {
          "output_type": "stream",
          "name": "stdout",
          "text": [
            "Enter numbers (integers) with spaces in between: \n",
            "1 4 2 12 9 0 99\n",
            "[0, 1, 2, 4, 9, 12, 99]\n"
          ]
        }
      ]
    }
  ]
}